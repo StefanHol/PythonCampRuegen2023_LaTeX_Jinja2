{
 "cells": [
  {
   "cell_type": "markdown",
   "metadata": {},
   "source": [
    "# $LaTeX$ & jinja2"
   ]
  },
  {
   "cell_type": "markdown",
   "metadata": {},
   "source": [
    "# Beispiel 2: Dictionaries"
   ]
  },
  {
   "cell_type": "markdown",
   "metadata": {},
   "source": [
    "\n",
    "\n",
    "## Ordnerstruktur:\n",
    "\n",
    "    ./LatexJinja_PythonCamp_2023\n",
    "    ./LatexJinja_PythonCamp_2023/jinja_helper.py\n",
    "    ./LatexJinja_PythonCamp_2023/<Beispiel Ordner>/<Dieses Jupyter Notebook>\n",
    "\n"
   ]
  },
  {
   "cell_type": "markdown",
   "metadata": {},
   "source": [
    "## Import"
   ]
  },
  {
   "cell_type": "code",
   "execution_count": 1,
   "metadata": {},
   "outputs": [],
   "source": [
    "import os\n",
    "import sys"
   ]
  },
  {
   "cell_type": "code",
   "execution_count": 2,
   "metadata": {},
   "outputs": [
    {
     "name": "stdout",
     "output_type": "stream",
     "text": [
      "/home/sekhet/work/Python/latexjinja_pythoncamp/2. Dict\n"
     ]
    }
   ],
   "source": [
    "cwd = os.getcwd()\n",
    "print(cwd)"
   ]
  },
  {
   "cell_type": "code",
   "execution_count": 3,
   "metadata": {},
   "outputs": [
    {
     "name": "stdout",
     "output_type": "stream",
     "text": [
      "/home/sekhet/work/Python/latexjinja_pythoncamp\n"
     ]
    }
   ],
   "source": [
    "jinja_helper_path = os.path.sep.join(cwd.split(os.path.sep)[:-1])\n",
    "print(jinja_helper_path)"
   ]
  },
  {
   "cell_type": "code",
   "execution_count": 4,
   "metadata": {},
   "outputs": [],
   "source": [
    "sys.path.append(jinja_helper_path)\n",
    "from  jinja_helper import render_latex_table"
   ]
  },
  {
   "cell_type": "code",
   "execution_count": 5,
   "metadata": {},
   "outputs": [],
   "source": [
    "import shutil\n",
    "import subprocess\n",
    "import jinja2\n",
    "from jinja2 import Template, DebugUndefined\n",
    "from pathlib import Path\n",
    "\n",
    "#import json\n",
    "#import pandas"
   ]
  },
  {
   "cell_type": "code",
   "execution_count": null,
   "metadata": {},
   "outputs": [],
   "source": []
  },
  {
   "cell_type": "markdown",
   "metadata": {},
   "source": [
    "## "
   ]
  },
  {
   "cell_type": "markdown",
   "metadata": {},
   "source": [
    "# Beispiel 2: Dictionaries"
   ]
  },
  {
   "cell_type": "markdown",
   "metadata": {},
   "source": [
    "## \"Example_2.tex\""
   ]
  },
  {
   "cell_type": "code",
   "execution_count": 8,
   "metadata": {},
   "outputs": [],
   "source": [
    "data = {\"name\": \"PythonCamp 2023\",\n",
    "       \"Beispiel\": \"2. Beispiel\"}\n",
    "\n",
    "input_template = \"Example_2.tex\"\n",
    "output_template = \"Example_2.tex\""
   ]
  },
  {
   "cell_type": "code",
   "execution_count": 9,
   "metadata": {},
   "outputs": [
    {
     "name": "stdout",
     "output_type": "stream",
     "text": [
      "Input: latexjinja_pythoncamp/2. Dict/Input/Example_2.tex\n",
      "Output: latexjinja_pythoncamp/2. Dict/Output/Example_2.tex\n"
     ]
    }
   ],
   "source": [
    "input_filepath = os.path.sep.join([os.path.sep.join(cwd.split(os.path.sep)[-2:]), 'Input', input_template])\n",
    "print(f\"Input: {input_filepath}\")\n",
    "file_out = os.path.sep.join([os.path.sep.join(cwd.split(os.path.sep)[-2:]), \"Output\", output_template])\n",
    "print(f\"Output: {file_out}\")"
   ]
  },
  {
   "cell_type": "code",
   "execution_count": 13,
   "metadata": {},
   "outputs": [],
   "source": [
    "# table_str = render_latex_table(input_data=data, templatefile = str(os.path.sep.join(['Input', input_template])))\n",
    "\n",
    "table_str = render_latex_table(input_data=data, templatefile = 'Input/' + input_template)\n",
    "# print(table_str)"
   ]
  },
  {
   "cell_type": "code",
   "execution_count": 12,
   "metadata": {},
   "outputs": [],
   "source": [
    "file_out = \"Output/\" + output_template\n",
    "with open(file=file_out ,mode=\"wt\", encoding=\"utf-8-sig\") as output_file:\n",
    "    output_file.write(table_str)"
   ]
  },
  {
   "cell_type": "code",
   "execution_count": null,
   "metadata": {},
   "outputs": [],
   "source": []
  },
  {
   "cell_type": "markdown",
   "metadata": {},
   "source": [
    "###  Hinweis\n",
    "    Übergabe mit os.path.sep.join(...) funtioniert nicht unter Windows:\n",
    "        -> Input\\Example_1.tex statt Input/Example_1.tex\n",
    "    table_str = render_latex_table(input_data=data, templatefile = str(os.path.sep.join(['Input', input_template])))\n",
    "\n",
    "- Hat jemand eine Idee, wie das gelöst werden kann?"
   ]
  },
  {
   "cell_type": "code",
   "execution_count": null,
   "metadata": {},
   "outputs": [],
   "source": [
    "'Input', input_template"
   ]
  },
  {
   "cell_type": "code",
   "execution_count": 14,
   "metadata": {},
   "outputs": [],
   "source": [
    "from pathlib import Path"
   ]
  },
  {
   "cell_type": "code",
   "execution_count": 21,
   "metadata": {},
   "outputs": [
    {
     "data": {
      "text/plain": [
       "PosixPath('/home/sekhet/work/Python/latexjinja_pythoncamp/2. Dict/Input')"
      ]
     },
     "execution_count": 21,
     "metadata": {},
     "output_type": "execute_result"
    }
   ],
   "source": [
    "Path('Input').absolute()"
   ]
  },
  {
   "cell_type": "code",
   "execution_count": 22,
   "metadata": {},
   "outputs": [
    {
     "data": {
      "text/plain": [
       "PosixPath('/home/sekhet/work/Python/latexjinja_pythoncamp/2. Dict/Input')"
      ]
     },
     "execution_count": 22,
     "metadata": {},
     "output_type": "execute_result"
    }
   ],
   "source": [
    "Path('Input').resolve()"
   ]
  },
  {
   "cell_type": "code",
   "execution_count": 23,
   "metadata": {},
   "outputs": [
    {
     "data": {
      "text/plain": [
       "PosixPath('/home/sekhet/work/Python/latexjinja_pythoncamp/2. Dict/Input/Example_2.tex')"
      ]
     },
     "execution_count": 23,
     "metadata": {},
     "output_type": "execute_result"
    }
   ],
   "source": [
    "Path('Input', input_template).resolve()"
   ]
  },
  {
   "cell_type": "code",
   "execution_count": 24,
   "metadata": {},
   "outputs": [
    {
     "data": {
      "text/plain": [
       "PosixPath('/home/sekhet/work/Python/latexjinja_pythoncamp/2. Dict/Input/Example_2.tex')"
      ]
     },
     "execution_count": 24,
     "metadata": {},
     "output_type": "execute_result"
    }
   ],
   "source": [
    "Path('Input').resolve() / input_template"
   ]
  },
  {
   "cell_type": "code",
   "execution_count": 26,
   "metadata": {},
   "outputs": [
    {
     "data": {
      "text/plain": [
       "PosixPath('/home/sekhet/work/Python/latexjinja_pythoncamp/2. Dict/Input/Example_2.tex')"
      ]
     },
     "execution_count": 26,
     "metadata": {},
     "output_type": "execute_result"
    }
   ],
   "source": [
    "(Path('Input') / input_template).resolve()"
   ]
  },
  {
   "cell_type": "code",
   "execution_count": 27,
   "metadata": {},
   "outputs": [],
   "source": [
    "p = Path()"
   ]
  },
  {
   "cell_type": "code",
   "execution_count": 30,
   "metadata": {},
   "outputs": [
    {
     "data": {
      "text/plain": [
       "PosixPath('/home/sekhet/work/Python/latexjinja_pythoncamp/2. Dict')"
      ]
     },
     "execution_count": 30,
     "metadata": {},
     "output_type": "execute_result"
    }
   ],
   "source": [
    "p = p.resolve()\n",
    "p"
   ]
  },
  {
   "cell_type": "code",
   "execution_count": 31,
   "metadata": {},
   "outputs": [
    {
     "data": {
      "text/plain": [
       "'/home/sekhet/work/Python/latexjinja_pythoncamp/2. Dict'"
      ]
     },
     "execution_count": 31,
     "metadata": {},
     "output_type": "execute_result"
    }
   ],
   "source": [
    "p.as_posix() # nicht für Windows"
   ]
  },
  {
   "cell_type": "code",
   "execution_count": 34,
   "metadata": {},
   "outputs": [
    {
     "data": {
      "text/plain": [
       "'/home/sekhet/work/Python/latexjinja_pythoncamp/2. Dict'"
      ]
     },
     "execution_count": 34,
     "metadata": {},
     "output_type": "execute_result"
    }
   ],
   "source": [
    "str(p)"
   ]
  },
  {
   "cell_type": "code",
   "execution_count": null,
   "metadata": {},
   "outputs": [],
   "source": []
  },
  {
   "cell_type": "code",
   "execution_count": null,
   "metadata": {},
   "outputs": [],
   "source": []
  },
  {
   "cell_type": "code",
   "execution_count": null,
   "metadata": {},
   "outputs": [],
   "source": []
  },
  {
   "cell_type": "code",
   "execution_count": null,
   "metadata": {},
   "outputs": [],
   "source": []
  },
  {
   "cell_type": "code",
   "execution_count": null,
   "metadata": {},
   "outputs": [],
   "source": [
    "pylatex für Bilder aus Matplotlib"
   ]
  }
 ],
 "metadata": {
  "kernelspec": {
   "display_name": "Python 3 (ipykernel)",
   "language": "python",
   "name": "python3"
  },
  "language_info": {
   "codemirror_mode": {
    "name": "ipython",
    "version": 3
   },
   "file_extension": ".py",
   "mimetype": "text/x-python",
   "name": "python",
   "nbconvert_exporter": "python",
   "pygments_lexer": "ipython3",
   "version": "3.10.6"
  },
  "vscode": {
   "interpreter": {
    "hash": "3d1bcbcfbafe74d3f3c0ede7c1326065d134fed3dd53f16579cb16741ba8205b"
   }
  }
 },
 "nbformat": 4,
 "nbformat_minor": 4
}

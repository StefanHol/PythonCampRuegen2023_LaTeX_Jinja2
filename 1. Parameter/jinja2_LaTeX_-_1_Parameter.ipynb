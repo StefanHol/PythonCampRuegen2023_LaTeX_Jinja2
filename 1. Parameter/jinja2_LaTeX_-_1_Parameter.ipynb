{
 "cells": [
  {
   "cell_type": "markdown",
   "metadata": {},
   "source": [
    "# $LaTeX$ & jinja2"
   ]
  },
  {
   "cell_type": "markdown",
   "metadata": {},
   "source": [
    "# Beispiel 1: Parameter"
   ]
  },
  {
   "cell_type": "markdown",
   "metadata": {},
   "source": [
    "\n",
    "\n",
    "## Ordnerstruktur:\n",
    "\n",
    "    ./LatexJinja_PythonCamp_2023\n",
    "    ./LatexJinja_PythonCamp_2023/jinja_helper.py\n",
    "    ./LatexJinja_PythonCamp_2023/<Beispiel Ordner>/<Dieses Jupyter Notebook>\n",
    "\n"
   ]
  },
  {
   "cell_type": "markdown",
   "metadata": {},
   "source": [
    "## Import"
   ]
  },
  {
   "cell_type": "code",
   "execution_count": 1,
   "metadata": {},
   "outputs": [],
   "source": [
    "import os\n",
    "import sys"
   ]
  },
  {
   "cell_type": "code",
   "execution_count": 2,
   "metadata": {},
   "outputs": [
    {
     "name": "stdout",
     "output_type": "stream",
     "text": [
      "/home/sekhet/work/Python/latexjinja_pythoncamp/1. Parameter\n"
     ]
    }
   ],
   "source": [
    "cwd = os.getcwd()\n",
    "print(cwd)"
   ]
  },
  {
   "cell_type": "code",
   "execution_count": 3,
   "metadata": {},
   "outputs": [
    {
     "name": "stdout",
     "output_type": "stream",
     "text": [
      "/home/sekhet/work/Python/latexjinja_pythoncamp\n"
     ]
    }
   ],
   "source": [
    "jinja_helper_path = os.path.sep.join(cwd.split(os.path.sep)[:-1])\n",
    "print(jinja_helper_path)"
   ]
  },
  {
   "cell_type": "code",
   "execution_count": 4,
   "metadata": {},
   "outputs": [],
   "source": [
    "sys.path.append(jinja_helper_path)\n",
    "from  jinja_helper import render_latex_table"
   ]
  },
  {
   "cell_type": "markdown",
   "metadata": {},
   "source": [
    "### Inhalt jinja_helper"
   ]
  },
  {
   "cell_type": "markdown",
   "metadata": {},
   "source": [
    "``` python\n",
    "import jinja2\n",
    "import os\n",
    "\n",
    "def render_latex_table(input_data, templatefile=''):\n",
    "    \"\"\"Receives a table in the form of a DataFrame and converts it to a string containing the Latex code for the standalone table \"\"\"\n",
    "    latex_jinja_env = jinja2.Environment(\n",
    "        block_start_string = '\\BLOCK{',\n",
    "        block_end_string = '}',\n",
    "        variable_start_string = '\\VAR{',\n",
    "        variable_end_string = '}',\n",
    "        comment_start_string = '\\#{',\n",
    "        comment_end_string = '}',\n",
    "        line_statement_prefix = '%%',\n",
    "        line_comment_prefix = '%#',\n",
    "        trim_blocks = True,\n",
    "        autoescape = False,\n",
    "        loader = jinja2.FileSystemLoader(os.path.abspath('.'))\n",
    "    )\n",
    "    \n",
    "    template = latex_jinja_env.get_template(templatefile)\n",
    "    return template.render(input_data=input_data)\n",
    "````"
   ]
  },
  {
   "cell_type": "code",
   "execution_count": 5,
   "metadata": {},
   "outputs": [],
   "source": [
    "import shutil\n",
    "import subprocess\n",
    "import jinja2\n",
    "from jinja2 import Template, DebugUndefined\n",
    "from pathlib import Path\n",
    "\n",
    "#import json\n",
    "#import pandas"
   ]
  },
  {
   "cell_type": "code",
   "execution_count": null,
   "metadata": {},
   "outputs": [],
   "source": []
  },
  {
   "cell_type": "markdown",
   "metadata": {},
   "source": [
    "# Beispiel 1: Übergabe eines einzelnen Parameters"
   ]
  },
  {
   "cell_type": "markdown",
   "metadata": {},
   "source": [
    "## \"Example_1.tex\""
   ]
  },
  {
   "cell_type": "code",
   "execution_count": 6,
   "metadata": {},
   "outputs": [],
   "source": [
    "data = \"PythonCamp 2023\"\n",
    "\n",
    "input_template = 'Example_1.tex'\n",
    "output_template = 'Example_1.tex'"
   ]
  },
  {
   "cell_type": "code",
   "execution_count": 7,
   "metadata": {},
   "outputs": [
    {
     "name": "stdout",
     "output_type": "stream",
     "text": [
      "Input: latexjinja_pythoncamp/1. Parameter/Input/Example_1.tex\n",
      "Output: latexjinja_pythoncamp/1. Parameter/Output/Example_1.tex\n"
     ]
    }
   ],
   "source": [
    "input_filepath = os.path.sep.join([os.path.sep.join(cwd.split(os.path.sep)[-2:]), 'Input', input_template])\n",
    "print(f\"Input: {input_filepath}\")\n",
    "file_out = os.path.sep.join([os.path.sep.join(cwd.split(os.path.sep)[-2:]), \"Output\", output_template])\n",
    "print(f\"Output: {file_out}\")"
   ]
  },
  {
   "cell_type": "code",
   "execution_count": 8,
   "metadata": {},
   "outputs": [],
   "source": [
    "# table_str = render_latex_table(input_data=data, templatefile = str(os.path.sep.join(['Input', input_template])))\n",
    "table_str = render_latex_table(input_data=data, templatefile = 'Input/' + input_template)\n",
    "# print(table_str)"
   ]
  },
  {
   "cell_type": "code",
   "execution_count": 9,
   "metadata": {},
   "outputs": [],
   "source": [
    "file_out = \"Output/\" + output_template\n",
    "with open(file=file_out ,mode=\"wt\", encoding=\"utf-8-sig\") as output_file:\n",
    "    output_file.write(table_str)"
   ]
  },
  {
   "cell_type": "code",
   "execution_count": null,
   "metadata": {},
   "outputs": [],
   "source": []
  },
  {
   "cell_type": "markdown",
   "metadata": {},
   "source": [
    "###  Hinweis\n",
    "    Übergabe mit os.path.sep.join(...) funtioniert nicht unter Windows:\n",
    "        -> Input\\Example_1.tex statt Input/Example_1.tex\n",
    "    table_str = render_latex_table(input_data=data, templatefile = str(os.path.sep.join(['Input', input_template])))\n",
    "\n",
    "- Hat jemand eine Idee, wie das gelöst werden kann?"
   ]
  },
  {
   "cell_type": "code",
   "execution_count": null,
   "metadata": {},
   "outputs": [],
   "source": []
  },
  {
   "cell_type": "code",
   "execution_count": null,
   "metadata": {},
   "outputs": [],
   "source": []
  }
 ],
 "metadata": {
  "kernelspec": {
   "display_name": "Python 3 (ipykernel)",
   "language": "python",
   "name": "python3"
  },
  "language_info": {
   "codemirror_mode": {
    "name": "ipython",
    "version": 3
   },
   "file_extension": ".py",
   "mimetype": "text/x-python",
   "name": "python",
   "nbconvert_exporter": "python",
   "pygments_lexer": "ipython3",
   "version": "3.10.6"
  },
  "vscode": {
   "interpreter": {
    "hash": "3d1bcbcfbafe74d3f3c0ede7c1326065d134fed3dd53f16579cb16741ba8205b"
   }
  }
 },
 "nbformat": 4,
 "nbformat_minor": 4
}

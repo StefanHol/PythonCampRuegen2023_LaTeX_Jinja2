{
 "cells": [
  {
   "cell_type": "markdown",
   "metadata": {},
   "source": [
    "# $LaTeX$ & jinja2"
   ]
  },
  {
   "cell_type": "markdown",
   "metadata": {},
   "source": [
    "# Beispiel 4: Tabelle"
   ]
  },
  {
   "cell_type": "markdown",
   "metadata": {},
   "source": [
    "\n",
    "\n",
    "## Ordnerstruktur:\n",
    "\n",
    "    ./LatexJinja_PythonCamp_2023\n",
    "    ./LatexJinja_PythonCamp_2023/jinja_helper.py\n",
    "    ./LatexJinja_PythonCamp_2023/<Beispiel Ordner>/<Dieses Jupyter Notebook>\n",
    "\n"
   ]
  },
  {
   "cell_type": "markdown",
   "metadata": {},
   "source": [
    "## Import"
   ]
  },
  {
   "cell_type": "code",
   "execution_count": 1,
   "metadata": {},
   "outputs": [],
   "source": [
    "import os\n",
    "import sys"
   ]
  },
  {
   "cell_type": "code",
   "execution_count": 2,
   "metadata": {},
   "outputs": [
    {
     "name": "stdout",
     "output_type": "stream",
     "text": [
      "/home/sekhet/work/Python/latexjinja_pythoncamp/4. Tabelle\n"
     ]
    }
   ],
   "source": [
    "cwd = os.getcwd()\n",
    "print(cwd)"
   ]
  },
  {
   "cell_type": "code",
   "execution_count": 3,
   "metadata": {},
   "outputs": [
    {
     "name": "stdout",
     "output_type": "stream",
     "text": [
      "/home/sekhet/work/Python/latexjinja_pythoncamp\n"
     ]
    }
   ],
   "source": [
    "jinja_helper_path = os.path.sep.join(cwd.split(os.path.sep)[:-1])\n",
    "print(jinja_helper_path)"
   ]
  },
  {
   "cell_type": "code",
   "execution_count": 4,
   "metadata": {},
   "outputs": [],
   "source": [
    "sys.path.append(jinja_helper_path)\n",
    "from  jinja_helper import render_latex_table"
   ]
  },
  {
   "cell_type": "code",
   "execution_count": 5,
   "metadata": {},
   "outputs": [],
   "source": [
    "import shutil\n",
    "import subprocess\n",
    "import jinja2\n",
    "from jinja2 import Template, DebugUndefined\n",
    "from pathlib import Path\n",
    "\n",
    "#import json\n",
    "#import pandas"
   ]
  },
  {
   "cell_type": "code",
   "execution_count": null,
   "metadata": {},
   "outputs": [],
   "source": []
  },
  {
   "cell_type": "markdown",
   "metadata": {},
   "source": [
    "## "
   ]
  },
  {
   "cell_type": "markdown",
   "metadata": {},
   "source": [
    "# Beispiel 4: Tabelle"
   ]
  },
  {
   "cell_type": "markdown",
   "metadata": {},
   "source": [
    "## \"Example_4.tex\""
   ]
  },
  {
   "cell_type": "code",
   "execution_count": 6,
   "metadata": {},
   "outputs": [],
   "source": [
    "data = {\"name\": \"PythonCamp 2023\",\n",
    "       \"Beispiel\": \"4. Beispiel\"}\n",
    "\n",
    "data[\"Teilnehmer\"] = [\"Maria Schaefer\",\n",
    "                    \"Susanne Mutz\",\n",
    "                    \"Mark Buchmann\",\n",
    "                    \"Ben Rohloff\",\n",
    "                    \"Nathalie Adamski\",\n",
    "                    \"Michael Hellmann\"]\n",
    "\n",
    "data[\"table\"] = {\"column_names\": [\"Column1\", \"Column2\", \"Column3\", \"Column4\"],\n",
    "                \"row_data\": [[\"Column1 row1\", \"Column2 row1\", \"Column3 row1\", \"Column4 row1\"],\n",
    "                             [\"Column1 row2\", \"Column2 row2\", \"Column3 row2\", \"Column4 row2\"],\n",
    "                             [\"Column1 row3\", \"Column2 row3\", \"Column3 row3\", \"Column4 row3\"],\n",
    "                             [\"Column1 row4\", \"Column2 row4\", \"Column3 row4\", \"Column4 row4\"],\n",
    "                             [\"Column1 row5\", \"Column2 row5\", \"Column3 row5\", \"Column4 row5\"]\n",
    "                            ]\n",
    "                }\n",
    "\n",
    "input_template = \"Example_4.tex\"\n",
    "output_template = \"Example_4.tex\""
   ]
  },
  {
   "cell_type": "code",
   "execution_count": 136,
   "metadata": {},
   "outputs": [
    {
     "data": {
      "text/plain": [
       "['Column1 row3', 'Column2 row3', 'Column3 row3', 'Column4 row3']"
      ]
     },
     "execution_count": 136,
     "metadata": {},
     "output_type": "execute_result"
    }
   ],
   "source": [
    "data[\"table\"]['row_data'][2]"
   ]
  },
  {
   "cell_type": "code",
   "execution_count": 141,
   "metadata": {},
   "outputs": [
    {
     "name": "stdout",
     "output_type": "stream",
     "text": [
      "Input: latexjinja_pythoncamp/4. Tabelle/Input/Example_4.tex\n",
      "Output: latexjinja_pythoncamp/4. Tabelle/Output/Example_4.tex\n"
     ]
    }
   ],
   "source": [
    "input_filepath = os.path.sep.join([os.path.sep.join(cwd.split(os.path.sep)[-2:]), 'Input', input_template])\n",
    "print(f\"Input: {input_filepath}\")\n",
    "file_out = os.path.sep.join([os.path.sep.join(cwd.split(os.path.sep)[-2:]), \"Output\", output_template])\n",
    "print(f\"Output: {file_out}\")"
   ]
  },
  {
   "cell_type": "code",
   "execution_count": 142,
   "metadata": {},
   "outputs": [],
   "source": [
    "# table_str = render_latex_table(input_data=data, templatefile = str(os.path.sep.join(['Input', input_template])))\n",
    "table_str = render_latex_table(input_data=data, templatefile = 'Input/' + input_template)\n",
    "# print(table_str)"
   ]
  },
  {
   "cell_type": "code",
   "execution_count": 140,
   "metadata": {},
   "outputs": [],
   "source": [
    "file_out = \"Output/\" + output_template\n",
    "with open(file=file_out ,mode=\"wt\", encoding=\"utf-8-sig\") as output_file:\n",
    "    output_file.write(table_str)"
   ]
  },
  {
   "cell_type": "code",
   "execution_count": null,
   "metadata": {},
   "outputs": [],
   "source": []
  },
  {
   "cell_type": "markdown",
   "metadata": {},
   "source": [
    "###  Hinweis\n",
    "    Übergabe mit os.path.sep.join(...) funtioniert nicht unter Windows:\n",
    "        -> Input\\Example_1.tex statt Input/Example_1.tex\n",
    "    table_str = render_latex_table(input_data=data, templatefile = str(os.path.sep.join(['Input', input_template])))\n",
    "\n",
    "- Hat jemand eine Idee, wie das gelöst werden kann?"
   ]
  },
  {
   "cell_type": "code",
   "execution_count": null,
   "metadata": {},
   "outputs": [],
   "source": []
  },
  {
   "cell_type": "code",
   "execution_count": null,
   "metadata": {},
   "outputs": [],
   "source": []
  },
  {
   "cell_type": "markdown",
   "metadata": {},
   "source": [
    "# Beispiel 2: Übergabe eines Dictionaries"
   ]
  },
  {
   "cell_type": "markdown",
   "metadata": {},
   "source": [
    "## \"Example_1.tex\""
   ]
  },
  {
   "cell_type": "code",
   "execution_count": null,
   "metadata": {},
   "outputs": [],
   "source": []
  },
  {
   "cell_type": "code",
   "execution_count": null,
   "metadata": {},
   "outputs": [],
   "source": []
  },
  {
   "cell_type": "code",
   "execution_count": null,
   "metadata": {},
   "outputs": [],
   "source": []
  },
  {
   "cell_type": "code",
   "execution_count": null,
   "metadata": {},
   "outputs": [],
   "source": [
    "data = {\"name\": \"PythonCamp 2023\",\n",
    "       \"BeispielNr\": 2}\n",
    "folder = \n",
    "input_template = \"Example_2.tex\"\n",
    "output_template = \"Example_2.tex\""
   ]
  },
  {
   "cell_type": "code",
   "execution_count": null,
   "metadata": {},
   "outputs": [],
   "source": [
    "# render file\n",
    "table_str = render_latex_table(input_data=data, templatefile = 'Input/' + input_template)\n",
    "print(table_str)\n",
    "\n",
    "file_out = os.path.sep.join([cwd, \"Output\", output_template])\n",
    "print(file_out)\n",
    "with open(file=file_out ,mode=\"wt\", encoding=\"utf-8-sig\") as output_file:\n",
    "    output_file.write(table_str)"
   ]
  },
  {
   "cell_type": "code",
   "execution_count": null,
   "metadata": {},
   "outputs": [],
   "source": []
  },
  {
   "cell_type": "code",
   "execution_count": null,
   "metadata": {},
   "outputs": [],
   "source": [
    "## vier relevante spalten vorbelegt\n",
    "table_row_values_default=[\" \\LARGE{ \\Square} \", \" \\LARGE{ \\Square} \", \" \\LARGE{ \\Square}\", \" \\LARGE{ \\Square}\"]"
   ]
  },
  {
   "cell_type": "code",
   "execution_count": null,
   "metadata": {},
   "outputs": [],
   "source": [
    "table_row_names=[\"Zeile 1\", \"Zeile 2\"]\n"
   ]
  },
  {
   "cell_type": "code",
   "execution_count": null,
   "metadata": {},
   "outputs": [],
   "source": [
    "subtable_template={\"subtitle\" : \"\",\n",
    "                     \"column_names\" : [\"voll\", \"größtenteils\",\"teilweise\", \" kaum\"],\n",
    "                     \"row_names\"    : [],\n",
    "                     \"row_values\"   : [],\n",
    "                     \"Bemerkungen_aktiv\": False,\n",
    "                     \"Bemerkungen_title\": \"\",\n",
    "                     \"Bemerkungen\":\"\"\n",
    "                    }"
   ]
  },
  {
   "cell_type": "markdown",
   "metadata": {},
   "source": [
    "## prepare table"
   ]
  },
  {
   "cell_type": "code",
   "execution_count": null,
   "metadata": {},
   "outputs": [],
   "source": [
    "Haupttitel =  \"Deutsch\"\n",
    "tabledata={\"maintitle\": Haupttitel,\n",
    "          \"tables\":[]}"
   ]
  },
  {
   "cell_type": "markdown",
   "metadata": {},
   "source": [
    "## prepare subtable"
   ]
  },
  {
   "cell_type": "code",
   "execution_count": null,
   "metadata": {},
   "outputs": [],
   "source": [
    "row_values=[]\n",
    "for i in range(len(table_row_names)):\n",
    "    row_values.append(table_row_values_default)\n",
    "print(row_values)"
   ]
  },
  {
   "cell_type": "code",
   "execution_count": null,
   "metadata": {},
   "outputs": [],
   "source": [
    "my_subtable=subtable_template\n",
    "my_subtable[\"subtitle\"]=\"Schreiben\"\n",
    "my_subtable[\"row_names\"]=table_row_names\n",
    "my_subtable[\"row_values\"]=row_values\n",
    "my_subtable[\"Bemerkungen_title\"]=\"\"\n",
    "print(my_subtable)"
   ]
  },
  {
   "cell_type": "code",
   "execution_count": null,
   "metadata": {},
   "outputs": [],
   "source": [
    "def get_check_box(value:bool):\n",
    "    if value:\n",
    "        return \"\\\\LARGE{ \\\\XBox}\"\n",
    "    else:\n",
    "        return \"\\\\LARGE{ \\\\Square}\"\n",
    "\n",
    "def set_check_to_column(value:int):\n",
    "    myrow=table_row_values_default.copy()#=[\" \\LARGE{ \\Square} \", \"  \\LARGE{ \\Square} \", \" \\LARGE{ \\Square}\", \" \\LARGE{ \\Square}\"]\n",
    "    myrow[value]=get_check_box(True)\n",
    "    return myrow\n",
    "\n",
    "print(set_check_to_column(0))\n",
    "print(set_check_to_column(1))\n",
    "print(set_check_to_column(2))\n",
    "print(set_check_to_column(3))\n",
    "my_subtable[\"row_values\"][0] = set_check_to_column(0)\n",
    "my_subtable[\"row_values\"][1] = set_check_to_column(3)"
   ]
  },
  {
   "cell_type": "code",
   "execution_count": null,
   "metadata": {},
   "outputs": [],
   "source": [
    "tabledata[\"tables\"]=[subtable_template]\n",
    "print(tabledata)"
   ]
  },
  {
   "cell_type": "code",
   "execution_count": null,
   "metadata": {},
   "outputs": [],
   "source": [
    "tabledata={\n",
    "          \"maintitle\": \"Deutsch jinja output\",\n",
    "          \"tables\":[{\"subtitle\" : \"Schreiben\",\n",
    "                     \"column_names\" : [\"voll\", \"größtenteils\",\"teilweise\", \" kaum\"],\n",
    "                     \"row_names\"    : [\"arbeitet auch über einen längeren Zeitraum konzentriert und ausdauernd.\", \"zeigt an den Themen und Aufgabenstellungen Interesse und Anstrengungsbereitschaft.\"],\n",
    "                     \"row_values\"   : [[\" \\LARGE{ \\Square} \", \" \\LARGE{ \\XBox} \", \"\\LARGE{ \\Square}\", \"\\LARGE{ \\Square}\"], [\"\\LARGE{ \\XBox}\", \"\\LARGE{ \\Square}\", \"\\LARGE{ \\Square}\", \"\\LARGE{ \\Square}\"]],\n",
    "                     \"Bemerkungen_aktiv\": True,\n",
    "                     \"Bemerkungen_title\": \"Bemerkungen Schreiben\",\n",
    "                     \"Bemerkungen\":\"Bemerkungen gkajshgt p8hfvkjbhfdag\"}\n",
    "                    ,\n",
    "                    {\"subtitle\" : \"Lesen\",\n",
    "                     \"column_names\" : [\"voll\", \"größtenteils\",\"teilweise\", \" kaum\"],\n",
    "                     \"row_names\"    : [\"Z1\", \"Z2\"],\n",
    "                     \"row_values\"   : [[\"\\LARGE{ \\XBox}\", \"\\LARGE{ \\Square} \", \"\\LARGE{ \\Square} \", \"\\LARGE{ \\Square} \"], [\"\\\\LARGE{\\XBox}\", \"\\LARGE{ \\Square} \", \"\\LARGE{ \\Square} \", \"\\LARGE{ \\Square} \"]],\n",
    "                     \"Bemerkungen_aktiv\": True,\n",
    "                     \"Bemerkungen_title\": \"Bemerkungen\",\n",
    "                     \"Bemerkungen\":\"\\lipsum[1]\"},\n",
    "                   ]\n",
    "            }\n",
    "\n",
    "len(tabledata[\"tables\"])"
   ]
  },
  {
   "cell_type": "markdown",
   "metadata": {},
   "source": [
    "## $\\LaTeX$ Inhalt erzeugen und schreiben"
   ]
  },
  {
   "cell_type": "code",
   "execution_count": null,
   "metadata": {},
   "outputs": [],
   "source": []
  },
  {
   "cell_type": "code",
   "execution_count": null,
   "metadata": {},
   "outputs": [],
   "source": [
    "table_str = render_latex_table( tabledata, templatefile='table_template_data.tex')\n",
    "print(table_str)\n",
    "with open(file=r\"C:\\work\\python\\_SpielWiese\\LaTeX\\zeigenhagen_jinja2\\template\\jinjaout.tex\",mode=\"wt\", encoding=\"utf-8-sig\") as output_file:\n",
    "    output_file.write(table_str)"
   ]
  },
  {
   "cell_type": "code",
   "execution_count": null,
   "metadata": {},
   "outputs": [],
   "source": []
  },
  {
   "cell_type": "markdown",
   "metadata": {},
   "source": [
    "# --------------------------"
   ]
  },
  {
   "cell_type": "code",
   "execution_count": null,
   "metadata": {},
   "outputs": [],
   "source": []
  },
  {
   "cell_type": "code",
   "execution_count": null,
   "metadata": {},
   "outputs": [],
   "source": []
  },
  {
   "cell_type": "code",
   "execution_count": null,
   "metadata": {},
   "outputs": [],
   "source": []
  },
  {
   "cell_type": "markdown",
   "metadata": {},
   "source": [
    "# Daten nach json übertragen"
   ]
  },
  {
   "cell_type": "code",
   "execution_count": null,
   "metadata": {},
   "outputs": [],
   "source": [
    "import pandas as pd\n",
    "data = [\n",
    "  {\"Lesen 1\": 1, \"Lesen 2\": 4}\n",
    "]\n",
    "\n",
    "my_dataframe = pd.DataFrame(data)\n",
    "my_dataframe"
   ]
  },
  {
   "cell_type": "code",
   "execution_count": null,
   "metadata": {},
   "outputs": [],
   "source": []
  },
  {
   "cell_type": "code",
   "execution_count": null,
   "metadata": {},
   "outputs": [],
   "source": []
  },
  {
   "cell_type": "code",
   "execution_count": null,
   "metadata": {},
   "outputs": [],
   "source": []
  },
  {
   "cell_type": "code",
   "execution_count": null,
   "metadata": {},
   "outputs": [],
   "source": []
  }
 ],
 "metadata": {
  "kernelspec": {
   "display_name": "Python 3 (ipykernel)",
   "language": "python",
   "name": "python3"
  },
  "language_info": {
   "codemirror_mode": {
    "name": "ipython",
    "version": 3
   },
   "file_extension": ".py",
   "mimetype": "text/x-python",
   "name": "python",
   "nbconvert_exporter": "python",
   "pygments_lexer": "ipython3",
   "version": "3.10.6"
  },
  "vscode": {
   "interpreter": {
    "hash": "3d1bcbcfbafe74d3f3c0ede7c1326065d134fed3dd53f16579cb16741ba8205b"
   }
  }
 },
 "nbformat": 4,
 "nbformat_minor": 4
}
